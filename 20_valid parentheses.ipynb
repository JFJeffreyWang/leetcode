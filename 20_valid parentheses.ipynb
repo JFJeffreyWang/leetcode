{
 "cells": [
  {
   "cell_type": "markdown",
   "metadata": {},
   "source": [
    "## valid parentheses "
   ]
  },
  {
   "cell_type": "raw",
   "metadata": {},
   "source": [
    "Given a string containing just the characters '(', ')', '{', '}', '[' and ']', determine if the input string is valid.\n",
    "\n",
    "The brackets must close in the correct order, \"()\" and \"()[]{}\" are all valid but \"(]\" and \"([)]\" are not"
   ]
  },
  {
   "cell_type": "raw",
   "metadata": {},
   "source": [
    "class Solution:\n",
    "    def isValid(self, s):\n",
    "        \"\"\"\n",
    "        :type s: str\n",
    "        :rtype: bool\n",
    "        \"\"\"\n",
    "        "
   ]
  },
  {
   "cell_type": "code",
   "execution_count": 15,
   "metadata": {},
   "outputs": [],
   "source": [
    "class Solution:\n",
    "    def isValid(self, s):\n",
    "        \"\"\"\n",
    "        :type s: str\n",
    "        :rtype: bool\n",
    "        \"\"\"\n",
    "        \n",
    "        stack = []\n",
    "        dict = {\n",
    "            '{':'}',\n",
    "            '(':')',\n",
    "            '[':']',\n",
    "        }\n",
    "        for char in s:\n",
    "            if char in dict:\n",
    "                stack.append(char)\n",
    "            elif char in dict.values():\n",
    "                if stack ==[] or char != dict[stack.pop()]:\n",
    "                    return False\n",
    "            else:\n",
    "                return False\n",
    "        return stack == []"
   ]
  },
  {
   "cell_type": "raw",
   "metadata": {},
   "source": [
    "//59ms 50%"
   ]
  },
  {
   "cell_type": "code",
   "execution_count": null,
   "metadata": {
    "collapsed": true
   },
   "outputs": [],
   "source": [
    "class Solution:\n",
    "    def isValid(self, s):\n",
    "        \"\"\"\n",
    "        :type s: str\n",
    "        :rtype: bool\n",
    "        \"\"\"\n",
    "        \n",
    "        stack = []\n",
    "        dict = {\n",
    "            '{':'}',\n",
    "            '(':')',\n",
    "            '[':']',\n",
    "        }\n",
    "        for char in s:\n",
    "            if char in dict:\n",
    "                stack.append(char)\n",
    "            elif char in dict.values():\n",
    "                if stack ==[] or char != dict[stack.pop()]:\n",
    "                    return False\n",
    "            else:\n",
    "                return False\n",
    "        return stack == []"
   ]
  },
  {
   "cell_type": "code",
   "execution_count": 10,
   "metadata": {},
   "outputs": [],
   "source": [
    "stack = []\n",
    "dict = {\n",
    "    \"]\":\"[\",\n",
    "    \"}\":\"{\",\n",
    "    \")\":\"(\"\n",
    "}"
   ]
  },
  {
   "cell_type": "code",
   "execution_count": 12,
   "metadata": {},
   "outputs": [
    {
     "data": {
      "text/plain": [
       "[']', '}', ')']"
      ]
     },
     "execution_count": 12,
     "metadata": {},
     "output_type": "execute_result"
    }
   ],
   "source": [
    "list(dict)"
   ]
  },
  {
   "cell_type": "code",
   "execution_count": 16,
   "metadata": {
    "collapsed": true
   },
   "outputs": [],
   "source": [
    "class Solution:\n",
    "    def isValid(self, s):\n",
    "        \"\"\"\n",
    "        :type s: str\n",
    "        :rtype: bool\n",
    "        \"\"\"\n",
    "        if len(s)%2==1:\n",
    "            return False\n",
    "        stack = []\n",
    "        dict = {\n",
    "            '{':'}',\n",
    "            '(':')',\n",
    "            '[':']',\n",
    "        }\n",
    "        for char in s:\n",
    "            if char in dict:\n",
    "                stack.append(char)\n",
    "            elif char in dict.values():\n",
    "                if stack ==[] or char != dict[stack.pop()]:\n",
    "                    return False\n",
    "            else:\n",
    "                return False\n",
    "        return stack == []"
   ]
  },
  {
   "cell_type": "code",
   "execution_count": null,
   "metadata": {
    "collapsed": true
   },
   "outputs": [],
   "source": [
    "//62，ms 44%"
   ]
  }
 ],
 "metadata": {
  "kernelspec": {
   "display_name": "Python3.6.3(Anaconda)",
   "language": "python",
   "name": "other-env"
  },
  "language_info": {
   "codemirror_mode": {
    "name": "ipython",
    "version": 3
   },
   "file_extension": ".py",
   "mimetype": "text/x-python",
   "name": "python",
   "nbconvert_exporter": "python",
   "pygments_lexer": "ipython3",
   "version": "3.6.3"
  }
 },
 "nbformat": 4,
 "nbformat_minor": 2
}
