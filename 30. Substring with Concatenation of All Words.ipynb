{
 "cells": [
  {
   "cell_type": "raw",
   "metadata": {},
   "source": [
    "You are given a string, s, and a list of words, words, that are all of the same length. Find all starting indices of substring(s) in s that is a concatenation of each word in words exactly once and without any intervening characters. \n",
    "For example, given:\n",
    "s: \"barfoothefoobarman\"\n",
    "words: [\"foo\", \"bar\"] \n",
    "You should return the indices: [0,9].\n",
    "(order does not matter). "
   ]
  },
  {
   "cell_type": "code",
   "execution_count": 1,
   "metadata": {
    "collapsed": true
   },
   "outputs": [],
   "source": [
    "class Solution:\n",
    "    def findSubstring(self, s, words):\n",
    "        \"\"\"\n",
    "        :type s: str\n",
    "        :type words: List[str]\n",
    "        :rtype: List[int]\n",
    "        \"\"\"\n",
    "        "
   ]
  },
  {
   "cell_type": "code",
   "execution_count": null,
   "metadata": {
    "collapsed": true
   },
   "outputs": [],
   "source": [
    "class Solution:\n",
    "    def findSubstring(self, s, words):\n",
    "        \"\"\"\n",
    "        :type s: str\n",
    "        :type words: List[str]\n",
    "        :rtype: List[int]\n",
    "        \"\"\"\n",
    "        if not s or not words or not words[0]:\n",
    "            return []\n",
    "        n = len(s)\n",
    "        k = len(words[0])\n",
    "        t = len(words) * k\n",
    "        req = {}\n",
    "        for w in words:\n",
    "            req[w] = req[w] + 1 if w in req else 1\n",
    "        ans = []\n",
    "        for i in range(min(k, n - t + 1)):\n",
    "            self._findSubstring(i, i, n, k, t, s, req, ans)\n",
    "        return ans\n",
    "    \n",
    "    def _findSubstring(self, l, r, n, k, t, s, req, ans):\n",
    "        curr = {}\n",
    "        while r + k <= n:\n",
    "            w = s[r: r + k]\n",
    "            r += k\n",
    "            if w not in req:\n",
    "                l = r\n",
    "                curr.clear()\n",
    "            else:\n",
    "                curr[w] = curr[w] + 1 if w in curr else 1\n",
    "                while curr[w] > req[w]:\n",
    "                    curr[s[l:l + k]] -= 1\n",
    "                    l += k\n",
    "                if r - l ==t:\n",
    "                    ans.append(l)\n",
    "        "
   ]
  },
  {
   "cell_type": "code",
   "execution_count": 6,
   "metadata": {
    "collapsed": true
   },
   "outputs": [],
   "source": [
    "class Solution:\n",
    "    def findSubstring(self, s, words):\n",
    "        if not s or not words or not words[0]:\n",
    "            return []\n",
    "        n = len(s)\n",
    "        k = len(words[0])\n",
    "        t = len(words) * k\n",
    "        req = {}\n",
    "        for w in words:\n",
    "            req[w] = req[w] + 1 if w in req else 1\n",
    "        ans = []\n",
    "        for i in range(min(k, n - t + 1)):\n",
    "            self._findSubstring(i, i, n, k, t, s, req, ans)\n",
    "        return ans\n",
    "    def _findSubstring(self, l ,r, n, k, t, s, req, ans):\n",
    "        curr = {}\n",
    "        while r + k <= n:\n",
    "            w = s[r: r + k]\n",
    "            r += k\n",
    "            if w not in req:\n",
    "                l = r\n",
    "                curr.clear()\n",
    "            else:\n",
    "                curr[w] = curr[w] + 1 if w in curr else 1\n",
    "                while curr[w] > req[w]:\n",
    "                    curr[s[l: l + k]] -= 1\n",
    "                    l += k\n",
    "                if r - l == t:\n",
    "                    ans.append(l)"
   ]
  },
  {
   "cell_type": "code",
   "execution_count": null,
   "metadata": {
    "collapsed": true
   },
   "outputs": [],
   "source": [
    "class Solution:\n",
    "    def findSubstring(self, s, words):\n",
    "        if not s or not words or not words[0]:\n",
    "            return []\n",
    "        n = len(s)\n",
    "        k = len(words[0])\n",
    "        \n",
    "        "
   ]
  },
  {
   "cell_type": "code",
   "execution_count": 22,
   "metadata": {},
   "outputs": [
    {
     "data": {
      "text/plain": [
       "[4]"
      ]
     },
     "execution_count": 22,
     "metadata": {},
     "output_type": "execute_result"
    }
   ],
   "source": [
    "Solution().findSubstring( 'fooabarbarfoofoo',['bar', 'bar'])"
   ]
  },
  {
   "cell_type": "code",
   "execution_count": 43,
   "metadata": {
    "collapsed": true
   },
   "outputs": [],
   "source": [
    "class Solution:\n",
    "    def findSubstring(self, s, words):\n",
    "        if not s or not words or not words[0]:\n",
    "            return []\n",
    "        n = len(s)\n",
    "        l = len(words[0])\n",
    "        k = l * len(words)\n",
    "        \n",
    "        req = {}\n",
    "        ans = []\n",
    "        for w in words:\n",
    "            req[w] = req[w] + 1 if w in req else 1\n",
    "        for i in range(min(l, n - k + 1)):\n",
    "            h = i\n",
    "            t = i\n",
    "            temp = {}\n",
    "            while t + l <= n:\n",
    "                w = s[t: t+l]\n",
    "                t += l\n",
    "                \n",
    "                if w in req:\n",
    "#                     print (w,'*')\n",
    "                    temp[w] = temp[w] + 1 if w in temp else 1\n",
    "                    while(temp[w] > req[w]):\n",
    "                        temp[s[h: h+l]] -= 1\n",
    "                        h += l\n",
    "                        \n",
    "                    if t - h == k:\n",
    "#                         print(h, t)\n",
    "                        ans.append(h)\n",
    "                else:\n",
    "#                     print (w, 'X')\n",
    "                    temp.clear()\n",
    "                    h = t\n",
    "        return ans\n",
    "                    "
   ]
  },
  {
   "cell_type": "code",
   "execution_count": 44,
   "metadata": {},
   "outputs": [
    {
     "data": {
      "text/plain": [
       "[4]"
      ]
     },
     "execution_count": 44,
     "metadata": {},
     "output_type": "execute_result"
    }
   ],
   "source": [
    "Solution().findSubstring( 'fooabarbarfoofoo',['bar', 'bar'])"
   ]
  },
  {
   "cell_type": "code",
   "execution_count": null,
   "metadata": {
    "collapsed": true
   },
   "outputs": [],
   "source": []
  }
 ],
 "metadata": {
  "kernelspec": {
   "display_name": "Python(3.6)",
   "language": "python",
   "name": "other-env"
  },
  "language_info": {
   "codemirror_mode": {
    "name": "ipython",
    "version": 3
   },
   "file_extension": ".py",
   "mimetype": "text/x-python",
   "name": "python",
   "nbconvert_exporter": "python",
   "pygments_lexer": "ipython3",
   "version": "3.6.0"
  }
 },
 "nbformat": 4,
 "nbformat_minor": 2
}
