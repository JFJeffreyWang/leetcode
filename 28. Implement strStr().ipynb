{
 "cells": [
  {
   "cell_type": "raw",
   "metadata": {},
   "source": [
    "Implement strStr(). \n",
    "Return the index of the first occurrence of needle in haystack, or -1 if needle is not part of haystack. \n",
    "Example 1: \n",
    "Input: haystack = \"hello\", needle = \"ll\"\n",
    "Output: 2\n",
    "\n",
    "Example 2: \n",
    "Input: haystack = \"aaaaa\", needle = \"bba\"\n",
    "Output: -1"
   ]
  },
  {
   "cell_type": "code",
   "execution_count": 2,
   "metadata": {
    "collapsed": true
   },
   "outputs": [],
   "source": [
    "class Solution:\n",
    "    def strStr(self, haystack, needle):\n",
    "        \"\"\"\n",
    "        :type haystack: str\n",
    "        :type needle: str\n",
    "        :rtype: int\n",
    "        \"\"\"\n",
    "        "
   ]
  },
  {
   "cell_type": "code",
   "execution_count": null,
   "metadata": {
    "collapsed": true
   },
   "outputs": [],
   "source": []
  }
 ],
 "metadata": {
  "kernelspec": {
   "display_name": "Python(3.6)",
   "language": "python",
   "name": "other-env"
  },
  "language_info": {
   "codemirror_mode": {
    "name": "ipython",
    "version": 3
   },
   "file_extension": ".py",
   "mimetype": "text/x-python",
   "name": "python",
   "nbconvert_exporter": "python",
   "pygments_lexer": "ipython3",
   "version": "3.6.0"
  }
 },
 "nbformat": 4,
 "nbformat_minor": 2
}
